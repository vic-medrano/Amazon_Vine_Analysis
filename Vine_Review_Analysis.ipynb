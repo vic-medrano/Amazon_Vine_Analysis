{
  "nbformat": 4,
  "nbformat_minor": 0,
  "metadata": {
    "colab": {
      "name": "Vine_Review_Analysis.ipynb",
      "provenance": []
    },
    "kernelspec": {
      "name": "python3",
      "display_name": "Python 3"
    },
    "language_info": {
      "name": "python"
    }
  },
  "cells": [
    {
      "cell_type": "code",
      "execution_count": 1,
      "metadata": {
        "colab": {
          "base_uri": "https://localhost:8080/"
        },
        "id": "ijyjgTjaelZe",
        "outputId": "203d9919-1957-4f24-9c63-65c5af6c57cb"
      },
      "outputs": [
        {
          "output_type": "stream",
          "name": "stdout",
          "text": [
            "Get:1 https://cloud.r-project.org/bin/linux/ubuntu bionic-cran40/ InRelease [3,626 B]\n",
            "Get:2 https://developer.download.nvidia.com/compute/cuda/repos/ubuntu1804/x86_64  InRelease [1,581 B]\n",
            "Ign:3 https://developer.download.nvidia.com/compute/machine-learning/repos/ubuntu1804/x86_64  InRelease\n",
            "Get:4 http://security.ubuntu.com/ubuntu bionic-security InRelease [88.7 kB]\n",
            "Hit:5 https://developer.download.nvidia.com/compute/machine-learning/repos/ubuntu1804/x86_64  Release\n",
            "Get:6 http://ppa.launchpad.net/c2d4u.team/c2d4u4.0+/ubuntu bionic InRelease [15.9 kB]\n",
            "Hit:7 http://archive.ubuntu.com/ubuntu bionic InRelease\n",
            "Get:8 http://archive.ubuntu.com/ubuntu bionic-updates InRelease [88.7 kB]\n",
            "Hit:9 http://ppa.launchpad.net/cran/libgit2/ubuntu bionic InRelease\n",
            "Get:10 https://cloud.r-project.org/bin/linux/ubuntu bionic-cran40/ Packages [85.6 kB]\n",
            "Hit:11 http://ppa.launchpad.net/deadsnakes/ppa/ubuntu bionic InRelease\n",
            "Get:12 http://archive.ubuntu.com/ubuntu bionic-backports InRelease [74.6 kB]\n",
            "Hit:13 http://ppa.launchpad.net/graphics-drivers/ppa/ubuntu bionic InRelease\n",
            "Get:14 https://developer.download.nvidia.com/compute/cuda/repos/ubuntu1804/x86_64  Packages [817 kB]\n",
            "Get:16 http://ppa.launchpad.net/c2d4u.team/c2d4u4.0+/ubuntu bionic/main Sources [2,075 kB]\n",
            "Get:17 http://security.ubuntu.com/ubuntu bionic-security/restricted amd64 Packages [1,063 kB]\n",
            "Get:18 http://ppa.launchpad.net/c2d4u.team/c2d4u4.0+/ubuntu bionic/main amd64 Packages [1,063 kB]\n",
            "Get:19 http://archive.ubuntu.com/ubuntu bionic-updates/main amd64 Packages [3,333 kB]\n",
            "Get:20 http://security.ubuntu.com/ubuntu bionic-security/main amd64 Packages [2,901 kB]\n",
            "Get:21 http://archive.ubuntu.com/ubuntu bionic-updates/restricted amd64 Packages [1,105 kB]\n",
            "Get:22 http://security.ubuntu.com/ubuntu bionic-security/universe amd64 Packages [1,527 kB]\n",
            "Get:23 http://archive.ubuntu.com/ubuntu bionic-updates/universe amd64 Packages [2,304 kB]\n",
            "Fetched 16.5 MB in 15s (1,109 kB/s)\n",
            "Reading package lists... Done\n"
          ]
        }
      ],
      "source": [
        "import os\n",
        "# Find the latest version of spark 3.0 from http://www.apache.org/dist/spark/ and enter as the spark version\n",
        "# For example:\n",
        "# spark_version = 'spark-3.0.3'\n",
        "spark_version = 'spark-3.0.3'\n",
        "os.environ['SPARK_VERSION']=spark_version\n",
        "\n",
        "# Install Spark and Java\n",
        "!apt-get update\n",
        "!apt-get install openjdk-11-jdk-headless -qq > /dev/null\n",
        "!wget -q http://www.apache.org/dist/spark/$SPARK_VERSION/$SPARK_VERSION-bin-hadoop2.7.tgz\n",
        "!tar xf $SPARK_VERSION-bin-hadoop2.7.tgz\n",
        "!pip install -q findspark\n",
        "\n",
        "# Set Environment Variables\n",
        "import os\n",
        "os.environ[\"JAVA_HOME\"] = \"/usr/lib/jvm/java-11-openjdk-amd64\"\n",
        "os.environ[\"SPARK_HOME\"] = f\"/content/{spark_version}-bin-hadoop2.7\"\n",
        "\n",
        "# Start a SparkSession\n",
        "import findspark\n",
        "findspark.init()"
      ]
    },
    {
      "cell_type": "code",
      "source": [
        "from pyspark.sql import SparkSession\n",
        "spark = SparkSession.builder.appName(\"M16-Amazon-Challenge\").config(\"spark.driver.extraClassPath\").getOrCreate()"
      ],
      "metadata": {
        "id": "IYf_mIIIe7PE"
      },
      "execution_count": 3,
      "outputs": []
    },
    {
      "cell_type": "code",
      "source": [
        "from pyspark import SparkFiles\n",
        "url = \"https://s3.amazonaws.com/amazon-reviews-pds/tsv/amazon_reviews_us_Books_v1_02.tsv.gz\"\n",
        "spark.sparkContext.addFile(url)\n",
        "df = spark.read.option(\"encoding\", \"UTF-8\").csv(SparkFiles.get(\"\"), sep=\"\\t\", header=True, inferSchema=True)\n",
        "df.show()"
      ],
      "metadata": {
        "colab": {
          "base_uri": "https://localhost:8080/"
        },
        "id": "Iyy8vXqRfOS-",
        "outputId": "08cf49bc-efe8-4872-f9aa-75fa5ad6dbc9"
      },
      "execution_count": 4,
      "outputs": [
        {
          "output_type": "stream",
          "name": "stdout",
          "text": [
            "+-----------+-----------+--------------+----------+--------------+--------------------+----------------+-----------+-------------+-----------+----+-----------------+--------------------+--------------------+-----------+\n",
            "|marketplace|customer_id|     review_id|product_id|product_parent|       product_title|product_category|star_rating|helpful_votes|total_votes|vine|verified_purchase|     review_headline|         review_body|review_date|\n",
            "+-----------+-----------+--------------+----------+--------------+--------------------+----------------+-----------+-------------+-----------+----+-----------------+--------------------+--------------------+-----------+\n",
            "|         US|   12076615| RQ58W7SMO911M|0385730586|     122662979|Sisterhood of the...|           Books|          4|            2|          3|   N|                N|this book was a g...|this boook was a ...| 2005-10-14|\n",
            "|         US|   12703090|  RF6IUKMGL8SF|0811828964|      56191234|The Bad Girl's Gu...|           Books|          3|            5|          5|   N|                N|           Fun Fluff|If you are lookin...| 2005-10-14|\n",
            "|         US|   12257412|R1DOSHH6AI622S|1844161560|     253182049|Eisenhorn (A Warh...|           Books|          4|            1|         22|   N|                N| this isn't a review|never read it-a y...| 2005-10-14|\n",
            "|         US|   50732546| RATOTLA3OF70O|0373836635|     348672532|Colby Conspiracy ...|           Books|          5|            2|          2|   N|                N|fine author on he...|Though she is hon...| 2005-10-14|\n",
            "|         US|   51964897|R1TNWRKIVHVYOV|0262181533|     598678717|The Psychology of...|           Books|          4|            0|          2|   N|                N|Execellent cursor...|Review based on a...| 2005-10-14|\n",
            "|         US|   31048862|R2F53LI9KK9MOY|0316769487|     862964341|The Catcher in th...|           Books|          4|            2|          2|   N|                N|   Interesting, fun.|My only complaint...| 2005-10-14|\n",
            "|         US|   53000124|R1KJ6MB7MRSQFF|0805076069|     145341889|Bait and Switch: ...|           Books|          4|            9|         11|   N|                N|I viewed this the...|This book is chil...| 2005-10-14|\n",
            "|         US|   29732693|R2XIM9LT335WHE|1581603681|     640542054|Opening Combinati...|           Books|          4|            3|         10|   N|                N|No Frills - Just ...|When looking for ...| 2005-10-14|\n",
            "|         US|   48541186|R1VE0FQQ0QTQJN|0300108834|     915891133|A Little History ...|           Books|          5|           16|         20|   N|                Y|Simple, entertain...|Never been much f...| 2005-10-14|\n",
            "|         US|   15280864|R1VKEE2NWSWDRU|0446531081|     880645124|Hour Game (King &...|           Books|          4|            0|          0|   N|                N|        A good read!|If you enjoy a we...| 2005-10-14|\n",
            "|         US|   24209213|R2UP6XSVYJBJ2H|0976822105|     731931430|     Faith is a Verb|           Books|          5|            0|          0|   N|                N|Made me Question ...|I thoroughly enjo...| 2005-10-14|\n",
            "|         US|   52253037|R21SYDQ70ILUC0|1580085695|     586052746|Furry Logic: A Gu...|           Books|          5|            1|          1|   N|                Y|    The Perfect Gift|If you are stumpe...| 2005-10-14|\n",
            "|         US|   27925116| R7M06Z88PD7SX|0029148510|      72387289|Acts of War: Beha...|           Books|          4|           14|         14|   N|                N|Solid Book About ...|Whether intention...| 2005-10-14|\n",
            "|         US|   15005044| RRS38KZ4WB5O2|1592285570|     702385650|Temple to the Win...|           Books|          5|            1|          1|   N|                N|A riveting accoun...|Temple to the win...| 2005-10-14|\n",
            "|         US|   52534781|R2YDYRSLGNHPHR|0811848833|     102333549|The Star Wars Pos...|           Books|          4|           16|         19|   N|                Y|Comprehensive vis...|At last... a comp...| 2005-10-14|\n",
            "|         US|   26217071|R1BMPM18O6VZOR|0782144276|     971452783|Photoshop for Nat...|           Books|          4|           13|         14|   N|                N|          Great Book|I find \\\\\"Photosh...| 2005-10-14|\n",
            "|         US|   37684582|R1AABFZH0J0C0C|0375757996|     760991156|The Basic Works o...|           Books|          3|           17|         35|   N|                N|Problems with thi...|I love Aristotle ...| 2005-10-14|\n",
            "|         US|   45232107|R3SJYLG07EHNE9|013146308X|     332774292|The Pterosaurs: F...|           Books|          2|           16|         34|   N|                N|Warmed over lefto...|To his discredit,...| 2005-10-14|\n",
            "|         US|   15437121|R2TIO43ND87XVO|0375701907|     635714194|Straight Man: A N...|           Books|          5|            1|          1|   N|                N|       Funniest Book|Hands down, the f...| 2005-10-14|\n",
            "|         US|   52157117|R18TY4WD19OUAO|141378240X|     656010659|   Lipstick's Legacy|           Books|          5|            1|          1|   N|                N|          Great Work|I read this book ...| 2005-10-14|\n",
            "+-----------+-----------+--------------+----------+--------------+--------------------+----------------+-----------+-------------+-----------+----+-----------------+--------------------+--------------------+-----------+\n",
            "only showing top 20 rows\n",
            "\n"
          ]
        }
      ]
    },
    {
      "cell_type": "code",
      "source": [
        "from pyspark.sql.functions import to_date\n",
        "# Read in the Review dataset as a DataFrame"
      ],
      "metadata": {
        "id": "5HizQg5qfX-q"
      },
      "execution_count": 5,
      "outputs": []
    },
    {
      "cell_type": "code",
      "source": [
        "# Create the vine_table. DataFrame\n",
        "vine_df = df.select([\"review_id\", \"star_rating\", \"helpful_votes\", \"total_votes\", \"vine\", \"verified_purchase\"])\n",
        "vine_df.show()"
      ],
      "metadata": {
        "colab": {
          "base_uri": "https://localhost:8080/"
        },
        "id": "TD3kv4uVfY3b",
        "outputId": "4fccdaee-024b-4bfe-e719-0ca3a15d778a"
      },
      "execution_count": 6,
      "outputs": [
        {
          "output_type": "stream",
          "name": "stdout",
          "text": [
            "+--------------+-----------+-------------+-----------+----+-----------------+\n",
            "|     review_id|star_rating|helpful_votes|total_votes|vine|verified_purchase|\n",
            "+--------------+-----------+-------------+-----------+----+-----------------+\n",
            "| RQ58W7SMO911M|          4|            2|          3|   N|                N|\n",
            "|  RF6IUKMGL8SF|          3|            5|          5|   N|                N|\n",
            "|R1DOSHH6AI622S|          4|            1|         22|   N|                N|\n",
            "| RATOTLA3OF70O|          5|            2|          2|   N|                N|\n",
            "|R1TNWRKIVHVYOV|          4|            0|          2|   N|                N|\n",
            "|R2F53LI9KK9MOY|          4|            2|          2|   N|                N|\n",
            "|R1KJ6MB7MRSQFF|          4|            9|         11|   N|                N|\n",
            "|R2XIM9LT335WHE|          4|            3|         10|   N|                N|\n",
            "|R1VE0FQQ0QTQJN|          5|           16|         20|   N|                Y|\n",
            "|R1VKEE2NWSWDRU|          4|            0|          0|   N|                N|\n",
            "|R2UP6XSVYJBJ2H|          5|            0|          0|   N|                N|\n",
            "|R21SYDQ70ILUC0|          5|            1|          1|   N|                Y|\n",
            "| R7M06Z88PD7SX|          4|           14|         14|   N|                N|\n",
            "| RRS38KZ4WB5O2|          5|            1|          1|   N|                N|\n",
            "|R2YDYRSLGNHPHR|          4|           16|         19|   N|                Y|\n",
            "|R1BMPM18O6VZOR|          4|           13|         14|   N|                N|\n",
            "|R1AABFZH0J0C0C|          3|           17|         35|   N|                N|\n",
            "|R3SJYLG07EHNE9|          2|           16|         34|   N|                N|\n",
            "|R2TIO43ND87XVO|          5|            1|          1|   N|                N|\n",
            "|R18TY4WD19OUAO|          5|            1|          1|   N|                N|\n",
            "+--------------+-----------+-------------+-----------+----+-----------------+\n",
            "only showing top 20 rows\n",
            "\n"
          ]
        }
      ]
    },
    {
      "cell_type": "code",
      "source": [
        "more_reviews_df = vine_df.filter(vine_df.total_votes>\"19\")\n",
        "more_reviews_df.show()"
      ],
      "metadata": {
        "colab": {
          "base_uri": "https://localhost:8080/"
        },
        "id": "8JH34BrafoqQ",
        "outputId": "aeeb469c-f20c-4636-fb28-1dbe1c0162ce"
      },
      "execution_count": 10,
      "outputs": [
        {
          "output_type": "stream",
          "name": "stdout",
          "text": [
            "+--------------+-----------+-------------+-----------+----+-----------------+\n",
            "|     review_id|star_rating|helpful_votes|total_votes|vine|verified_purchase|\n",
            "+--------------+-----------+-------------+-----------+----+-----------------+\n",
            "|R1DOSHH6AI622S|          4|            1|         22|   N|                N|\n",
            "|R1VE0FQQ0QTQJN|          5|           16|         20|   N|                Y|\n",
            "|R1AABFZH0J0C0C|          3|           17|         35|   N|                N|\n",
            "|R3SJYLG07EHNE9|          2|           16|         34|   N|                N|\n",
            "|R3MD5TZJGIPTDU|          5|           21|         31|   N|                N|\n",
            "|R1KPOIT5WT3NEF|          1|           13|         29|   N|                N|\n",
            "| RX6OWUF8EFZ72|          5|           27|         28|   N|                N|\n",
            "| R33IFUWCNYFSO|          2|            4|         45|   N|                N|\n",
            "| RWMT2MXG3WLDP|          5|            6|         20|   N|                N|\n",
            "|R1OPUF771LL5O5|          4|           27|         27|   N|                N|\n",
            "|R3AW5JRZYH66M5|          1|          268|        307|   N|                N|\n",
            "|R2DXLNKF0EL4CI|          4|           24|         27|   N|                Y|\n",
            "|R12EHXBC0GP2C2|          5|           23|         24|   N|                N|\n",
            "|R2JSWNTAO83X3V|          5|          145|        184|   N|                N|\n",
            "|R3THZWOBS1086J|          5|           46|         47|   N|                N|\n",
            "|R160DHJPJ4B20R|          4|           28|         30|   N|                N|\n",
            "|R27UDFNE6MY1LO|          2|           15|         24|   N|                N|\n",
            "|R34X92SSRBI0N4|          5|           26|         29|   N|                N|\n",
            "| RDBVYHGTTICMV|          1|            4|         25|   N|                N|\n",
            "| RGTKXJ8P5O7LR|          4|           16|         21|   N|                N|\n",
            "+--------------+-----------+-------------+-----------+----+-----------------+\n",
            "only showing top 20 rows\n",
            "\n"
          ]
        }
      ]
    },
    {
      "cell_type": "code",
      "source": [
        "percentage_reviews_df = more_reviews_df.withColumn(\"review_percentage\", more_reviews_df.helpful_votes/more_reviews_df.total_votes)\n",
        "percentage_reviews_df.show()"
      ],
      "metadata": {
        "colab": {
          "base_uri": "https://localhost:8080/"
        },
        "id": "77jKQ3_LoS8-",
        "outputId": "8a7187d7-ca68-4bd9-cd72-f5621ff4760f"
      },
      "execution_count": 11,
      "outputs": [
        {
          "output_type": "stream",
          "name": "stdout",
          "text": [
            "+--------------+-----------+-------------+-----------+----+-----------------+--------------------+\n",
            "|     review_id|star_rating|helpful_votes|total_votes|vine|verified_purchase|   review_percentage|\n",
            "+--------------+-----------+-------------+-----------+----+-----------------+--------------------+\n",
            "|R1DOSHH6AI622S|          4|            1|         22|   N|                N|0.045454545454545456|\n",
            "|R1VE0FQQ0QTQJN|          5|           16|         20|   N|                Y|                 0.8|\n",
            "|R1AABFZH0J0C0C|          3|           17|         35|   N|                N|  0.4857142857142857|\n",
            "|R3SJYLG07EHNE9|          2|           16|         34|   N|                N| 0.47058823529411764|\n",
            "|R3MD5TZJGIPTDU|          5|           21|         31|   N|                N|  0.6774193548387096|\n",
            "|R1KPOIT5WT3NEF|          1|           13|         29|   N|                N|  0.4482758620689655|\n",
            "| RX6OWUF8EFZ72|          5|           27|         28|   N|                N|  0.9642857142857143|\n",
            "| R33IFUWCNYFSO|          2|            4|         45|   N|                N| 0.08888888888888889|\n",
            "| RWMT2MXG3WLDP|          5|            6|         20|   N|                N|                 0.3|\n",
            "|R1OPUF771LL5O5|          4|           27|         27|   N|                N|                 1.0|\n",
            "|R3AW5JRZYH66M5|          1|          268|        307|   N|                N|  0.8729641693811075|\n",
            "|R2DXLNKF0EL4CI|          4|           24|         27|   N|                Y|  0.8888888888888888|\n",
            "|R12EHXBC0GP2C2|          5|           23|         24|   N|                N|  0.9583333333333334|\n",
            "|R2JSWNTAO83X3V|          5|          145|        184|   N|                N|  0.7880434782608695|\n",
            "|R3THZWOBS1086J|          5|           46|         47|   N|                N|  0.9787234042553191|\n",
            "|R160DHJPJ4B20R|          4|           28|         30|   N|                N|  0.9333333333333333|\n",
            "|R27UDFNE6MY1LO|          2|           15|         24|   N|                N|               0.625|\n",
            "|R34X92SSRBI0N4|          5|           26|         29|   N|                N|   0.896551724137931|\n",
            "| RDBVYHGTTICMV|          1|            4|         25|   N|                N|                0.16|\n",
            "| RGTKXJ8P5O7LR|          4|           16|         21|   N|                N|  0.7619047619047619|\n",
            "+--------------+-----------+-------------+-----------+----+-----------------+--------------------+\n",
            "only showing top 20 rows\n",
            "\n"
          ]
        }
      ]
    },
    {
      "cell_type": "code",
      "source": [
        "##Filter by reviews that had 50% or greater helpful votes out of total votes\n",
        "helpful_votes_df = percentage_reviews_df.filter(percentage_reviews_df.review_percentage>=\".5\")\n",
        "helpful_votes_df.show()"
      ],
      "metadata": {
        "colab": {
          "base_uri": "https://localhost:8080/"
        },
        "id": "GOkSUsuloTGQ",
        "outputId": "849ebe82-545f-45b0-b91e-f0eb954d6985"
      },
      "execution_count": 12,
      "outputs": [
        {
          "output_type": "stream",
          "name": "stdout",
          "text": [
            "+--------------+-----------+-------------+-----------+----+-----------------+------------------+\n",
            "|     review_id|star_rating|helpful_votes|total_votes|vine|verified_purchase| review_percentage|\n",
            "+--------------+-----------+-------------+-----------+----+-----------------+------------------+\n",
            "|R1VE0FQQ0QTQJN|          5|           16|         20|   N|                Y|               0.8|\n",
            "|R3MD5TZJGIPTDU|          5|           21|         31|   N|                N|0.6774193548387096|\n",
            "| RX6OWUF8EFZ72|          5|           27|         28|   N|                N|0.9642857142857143|\n",
            "|R1OPUF771LL5O5|          4|           27|         27|   N|                N|               1.0|\n",
            "|R3AW5JRZYH66M5|          1|          268|        307|   N|                N|0.8729641693811075|\n",
            "|R2DXLNKF0EL4CI|          4|           24|         27|   N|                Y|0.8888888888888888|\n",
            "|R12EHXBC0GP2C2|          5|           23|         24|   N|                N|0.9583333333333334|\n",
            "|R2JSWNTAO83X3V|          5|          145|        184|   N|                N|0.7880434782608695|\n",
            "|R3THZWOBS1086J|          5|           46|         47|   N|                N|0.9787234042553191|\n",
            "|R160DHJPJ4B20R|          4|           28|         30|   N|                N|0.9333333333333333|\n",
            "|R27UDFNE6MY1LO|          2|           15|         24|   N|                N|             0.625|\n",
            "|R34X92SSRBI0N4|          5|           26|         29|   N|                N| 0.896551724137931|\n",
            "| RGTKXJ8P5O7LR|          4|           16|         21|   N|                N|0.7619047619047619|\n",
            "|R1TK5Q90GGJSTN|          4|           59|         68|   N|                N|0.8676470588235294|\n",
            "|R3E8UZOCG84HNO|          5|           18|         24|   N|                N|              0.75|\n",
            "|R33O2810BC4UR0|          5|          101|        103|   N|                Y|0.9805825242718447|\n",
            "|R1M60NYB4UPRJ8|          5|           19|         24|   N|                N|0.7916666666666666|\n",
            "|R38RXR8USISV94|          4|         1150|       1228|   N|                N|0.9364820846905537|\n",
            "|R2E2KP6K6OUBEX|          5|           59|         60|   N|                N|0.9833333333333333|\n",
            "|R3F583X11I1RP6|          1|           40|         43|   N|                N|0.9302325581395349|\n",
            "+--------------+-----------+-------------+-----------+----+-----------------+------------------+\n",
            "only showing top 20 rows\n",
            "\n"
          ]
        }
      ]
    },
    {
      "cell_type": "code",
      "source": [
        "#Retrieve all rows where a review was written as part of the vine program\n",
        "from pyspark.sql.functions import col\n",
        "vine_program_df = helpful_votes_df.filter(col(\"vine\") == \"Y\")\n",
        "vine_program_df.show()"
      ],
      "metadata": {
        "colab": {
          "base_uri": "https://localhost:8080/"
        },
        "id": "hgg_zS0gqqf6",
        "outputId": "403cf6fa-9ad6-4afe-8e6d-7657edefee14"
      },
      "execution_count": 18,
      "outputs": [
        {
          "output_type": "stream",
          "name": "stdout",
          "text": [
            "+---------+-----------+-------------+-----------+----+-----------------+-----------------+\n",
            "|review_id|star_rating|helpful_votes|total_votes|vine|verified_purchase|review_percentage|\n",
            "+---------+-----------+-------------+-----------+----+-----------------+-----------------+\n",
            "+---------+-----------+-------------+-----------+----+-----------------+-----------------+\n",
            "\n"
          ]
        }
      ]
    },
    {
      "cell_type": "code",
      "source": [
        "#Retrieve all rows where a review was written as not part of the vine program\n",
        "nonvine_program_df = helpful_votes_df.filter(helpful_votes_df.vine == \"N\")\n",
        "nonvine_program_df.show()"
      ],
      "metadata": {
        "colab": {
          "base_uri": "https://localhost:8080/"
        },
        "id": "YLw2_h_usrjE",
        "outputId": "5ebfe3e6-8f64-4020-c351-2b2a78b21658"
      },
      "execution_count": 19,
      "outputs": [
        {
          "output_type": "stream",
          "name": "stdout",
          "text": [
            "+--------------+-----------+-------------+-----------+----+-----------------+------------------+\n",
            "|     review_id|star_rating|helpful_votes|total_votes|vine|verified_purchase| review_percentage|\n",
            "+--------------+-----------+-------------+-----------+----+-----------------+------------------+\n",
            "|R1VE0FQQ0QTQJN|          5|           16|         20|   N|                Y|               0.8|\n",
            "|R3MD5TZJGIPTDU|          5|           21|         31|   N|                N|0.6774193548387096|\n",
            "| RX6OWUF8EFZ72|          5|           27|         28|   N|                N|0.9642857142857143|\n",
            "|R1OPUF771LL5O5|          4|           27|         27|   N|                N|               1.0|\n",
            "|R3AW5JRZYH66M5|          1|          268|        307|   N|                N|0.8729641693811075|\n",
            "|R2DXLNKF0EL4CI|          4|           24|         27|   N|                Y|0.8888888888888888|\n",
            "|R12EHXBC0GP2C2|          5|           23|         24|   N|                N|0.9583333333333334|\n",
            "|R2JSWNTAO83X3V|          5|          145|        184|   N|                N|0.7880434782608695|\n",
            "|R3THZWOBS1086J|          5|           46|         47|   N|                N|0.9787234042553191|\n",
            "|R160DHJPJ4B20R|          4|           28|         30|   N|                N|0.9333333333333333|\n",
            "|R27UDFNE6MY1LO|          2|           15|         24|   N|                N|             0.625|\n",
            "|R34X92SSRBI0N4|          5|           26|         29|   N|                N| 0.896551724137931|\n",
            "| RGTKXJ8P5O7LR|          4|           16|         21|   N|                N|0.7619047619047619|\n",
            "|R1TK5Q90GGJSTN|          4|           59|         68|   N|                N|0.8676470588235294|\n",
            "|R3E8UZOCG84HNO|          5|           18|         24|   N|                N|              0.75|\n",
            "|R33O2810BC4UR0|          5|          101|        103|   N|                Y|0.9805825242718447|\n",
            "|R1M60NYB4UPRJ8|          5|           19|         24|   N|                N|0.7916666666666666|\n",
            "|R38RXR8USISV94|          4|         1150|       1228|   N|                N|0.9364820846905537|\n",
            "|R2E2KP6K6OUBEX|          5|           59|         60|   N|                N|0.9833333333333333|\n",
            "|R3F583X11I1RP6|          1|           40|         43|   N|                N|0.9302325581395349|\n",
            "+--------------+-----------+-------------+-----------+----+-----------------+------------------+\n",
            "only showing top 20 rows\n",
            "\n"
          ]
        }
      ]
    },
    {
      "cell_type": "code",
      "source": [
        "# Determine the total number of reviews, the number of 5-star reviews, and the percentage of 5-star reviews for the two types of review (paid vs unpaid).\n",
        "from pyspark.sql.functions import col,when,count,lit\n",
        "ratings_total_df = helpful_votes_df.groupBy(\"vine\").agg(\n",
        "    count(col(\"vine\")).alias(\"Total_Reviews\"),\n",
        "    count(when(col(\"star_rating\") == 5, True)).alias(\"Total_5_Star_Reviews\"),\n",
        "    (count(when(col(\"star_rating\") == 5, True))/count(col(\"vine\"))*100).alias(\"%_5_Star_To_Total\")).show()"
      ],
      "metadata": {
        "colab": {
          "base_uri": "https://localhost:8080/"
        },
        "id": "CQUFHQNHtGCq",
        "outputId": "8dc198c2-2560-4906-e959-72e05ac21f7d"
      },
      "execution_count": 20,
      "outputs": [
        {
          "output_type": "stream",
          "name": "stdout",
          "text": [
            "+----+-------------+--------------------+-----------------+\n",
            "|vine|Total_Reviews|Total_5_Star_Reviews|%_5_Star_To_Total|\n",
            "+----+-------------+--------------------+-----------------+\n",
            "|   N|       403807|              242889|60.14977452099642|\n",
            "+----+-------------+--------------------+-----------------+\n",
            "\n"
          ]
        }
      ]
    }
  ]
}